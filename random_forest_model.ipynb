{
 "cells": [
  {
   "cell_type": "code",
   "execution_count": 102,
   "metadata": {},
   "outputs": [],
   "source": [
    "# import os\n",
    "# import re\n",
    "# import sys\n",
    "# from hashlib import sha1\n",
    "\n",
    "import matplotlib.pyplot as plt\n",
    "import numpy as np\n",
    "import pandas as pd\n",
    "\n",
    "from sklearn import datasets\n",
    "\n",
    "from sklearn.compose import (\n",
    "    ColumnTransformer,\n",
    "    TransformedTargetRegressor,\n",
    "    make_column_transformer,\n",
    ")\n",
    "\n",
    "from sklearn.ensemble import RandomForestClassifier, RandomForestRegressor\n",
    "from sklearn.impute import SimpleImputer\n",
    "\n",
    "from sklearn.model_selection import (\n",
    "    GridSearchCV,\n",
    "    RandomizedSearchCV,\n",
    "    cross_validate,\n",
    "    train_test_split,\n",
    ")\n",
    "from sklearn.pipeline import Pipeline, make_pipeline\n",
    "from sklearn.preprocessing import OneHotEncoder, OrdinalEncoder, StandardScaler\n",
    "from sklearn.svm import SVC, SVR\n",
    "\n",
    "import scipy\n",
    "from scipy.stats import randint"
   ]
  },
  {
   "cell_type": "code",
   "execution_count": 103,
   "metadata": {},
   "outputs": [],
   "source": [
    "data = pd.read_csv('data/Absenteeism_at_work.csv', sep=\";\")"
   ]
  },
  {
   "cell_type": "code",
   "execution_count": 63,
   "metadata": {},
   "outputs": [
    {
     "name": "stdout",
     "output_type": "stream",
     "text": [
      "<class 'pandas.core.frame.DataFrame'>\n",
      "RangeIndex: 740 entries, 0 to 739\n",
      "Data columns (total 21 columns):\n",
      " #   Column                           Non-Null Count  Dtype  \n",
      "---  ------                           --------------  -----  \n",
      " 0   ID                               740 non-null    int64  \n",
      " 1   Reason for absence               740 non-null    int64  \n",
      " 2   Month of absence                 740 non-null    int64  \n",
      " 3   Day of the week                  740 non-null    int64  \n",
      " 4   Seasons                          740 non-null    int64  \n",
      " 5   Transportation expense           740 non-null    int64  \n",
      " 6   Distance from Residence to Work  740 non-null    int64  \n",
      " 7   Service time                     740 non-null    int64  \n",
      " 8   Age                              740 non-null    int64  \n",
      " 9   Work load Average/day            740 non-null    float64\n",
      " 10  Hit target                       740 non-null    int64  \n",
      " 11  Disciplinary failure             740 non-null    int64  \n",
      " 12  Education                        740 non-null    int64  \n",
      " 13  Son                              740 non-null    int64  \n",
      " 14  Social drinker                   740 non-null    int64  \n",
      " 15  Social smoker                    740 non-null    int64  \n",
      " 16  Pet                              740 non-null    int64  \n",
      " 17  Weight                           740 non-null    int64  \n",
      " 18  Height                           740 non-null    int64  \n",
      " 19  Body mass index                  740 non-null    int64  \n",
      " 20  Absenteeism time in hours        740 non-null    int64  \n",
      "dtypes: float64(1), int64(20)\n",
      "memory usage: 121.5 KB\n"
     ]
    }
   ],
   "source": [
    "data.info()"
   ]
  },
  {
   "cell_type": "code",
   "execution_count": 104,
   "metadata": {},
   "outputs": [],
   "source": [
    "data['Social drinker'] = data['Social drinker'].astype('bool')\n",
    "data['Social smoker'] = data['Social smoker'].astype('bool')\n",
    "data['Disciplinary failure'] = data['Disciplinary failure'].astype('bool')\n",
    "data['Seasons'] = data['Seasons'].astype('category')\n",
    "data['Education'] = data['Education'].astype('category')\n",
    "data['Month of absence'] = data['Month of absence'].astype('category')\n",
    "data['Reason for absence'] = data['Reason for absence'].astype('category')\n",
    "unuseful_idx = (data[data[\"Month of absence\"] == 0]).index.tolist()\n",
    "data = data.drop(unuseful_idx)"
   ]
  },
  {
   "cell_type": "code",
   "execution_count": 105,
   "metadata": {},
   "outputs": [
    {
     "name": "stdout",
     "output_type": "stream",
     "text": [
      "<class 'pandas.core.frame.DataFrame'>\n",
      "Int64Index: 737 entries, 0 to 736\n",
      "Data columns (total 21 columns):\n",
      " #   Column                           Non-Null Count  Dtype   \n",
      "---  ------                           --------------  -----   \n",
      " 0   ID                               737 non-null    int64   \n",
      " 1   Reason for absence               737 non-null    category\n",
      " 2   Month of absence                 737 non-null    category\n",
      " 3   Day of the week                  737 non-null    int64   \n",
      " 4   Seasons                          737 non-null    category\n",
      " 5   Transportation expense           737 non-null    int64   \n",
      " 6   Distance from Residence to Work  737 non-null    int64   \n",
      " 7   Service time                     737 non-null    int64   \n",
      " 8   Age                              737 non-null    int64   \n",
      " 9   Work load Average/day            737 non-null    float64 \n",
      " 10  Hit target                       737 non-null    int64   \n",
      " 11  Disciplinary failure             737 non-null    bool    \n",
      " 12  Education                        737 non-null    category\n",
      " 13  Son                              737 non-null    int64   \n",
      " 14  Social drinker                   737 non-null    bool    \n",
      " 15  Social smoker                    737 non-null    bool    \n",
      " 16  Pet                              737 non-null    int64   \n",
      " 17  Weight                           737 non-null    int64   \n",
      " 18  Height                           737 non-null    int64   \n",
      " 19  Body mass index                  737 non-null    int64   \n",
      " 20  Absenteeism time in hours        737 non-null    int64   \n",
      "dtypes: bool(3), category(4), float64(1), int64(13)\n",
      "memory usage: 94.0 KB\n"
     ]
    }
   ],
   "source": [
    "data.info()"
   ]
  },
  {
   "cell_type": "code",
   "execution_count": 106,
   "metadata": {},
   "outputs": [],
   "source": [
    "train_df, test_df = train_test_split(data, test_size=0.3, random_state=123)"
   ]
  },
  {
   "cell_type": "code",
   "execution_count": null,
   "metadata": {},
   "outputs": [],
   "source": []
  },
  {
   "cell_type": "code",
   "execution_count": null,
   "metadata": {},
   "outputs": [],
   "source": []
  },
  {
   "cell_type": "code",
   "execution_count": null,
   "metadata": {},
   "outputs": [],
   "source": []
  },
  {
   "cell_type": "code",
   "execution_count": 107,
   "metadata": {},
   "outputs": [],
   "source": [
    "### identify target\n",
    "target = \"Absenteeism time in hours\""
   ]
  },
  {
   "cell_type": "code",
   "execution_count": 108,
   "metadata": {},
   "outputs": [],
   "source": [
    "### split out features and target\n",
    "X_train, y_train = train_df.drop(columns=[target]), train_df[target]\n",
    "X_test, y_test = test_df.drop(columns=[target]), test_df[target]"
   ]
  },
  {
   "cell_type": "code",
   "execution_count": 109,
   "metadata": {},
   "outputs": [],
   "source": [
    "###\n",
    "# identify features\n",
    "drop_feature = [\"ID\"]\n",
    "numeric_features = [\"Transportation expense\", \"Distance from Residence to Work\", \"Service time\", \"Age\", \"Work load Average/day \", \"Hit target\", \"Son\", \"Pet\", \"Weight\", \"Height\", \"Body mass index\"]\n",
    "categorical_features = [\"Reason for absence\", \"Month of absence\", \"Day of the week\", \"Seasons\"]\n",
    "binary_features = [\"Disciplinary failure\", \"Social drinker\", \"Social smoker\"]\n",
    "ordinal_feature = [\"Education\"]"
   ]
  },
  {
   "cell_type": "code",
   "execution_count": 54,
   "metadata": {
    "jupyter": {
     "source_hidden": true
    }
   },
   "outputs": [],
   "source": [
    "# make tranformers\n",
    "# numeric_transformer = make_pipeline(StandardScaler())\n",
    "# categorical_transformer = make_pipeline(OneHotEncoder(handle_unknown=\"ignore\"))\n",
    "# binary_transformer = make_pipeline(OneHotEncoder(handle_unknown=\"error\", drop='if_binary'))\n",
    "# ordinal_transformer = make_pipeline(OrdinalEncoder())"
   ]
  },
  {
   "cell_type": "code",
   "execution_count": 110,
   "metadata": {},
   "outputs": [],
   "source": [
    "### make preprocessor\n",
    "preprocessor = make_column_transformer(\n",
    "    ('drop', drop_feature),\n",
    "    (StandardScaler(), numeric_features),\n",
    "    (OneHotEncoder(handle_unknown=\"ignore\"), categorical_features),\n",
    "    (OneHotEncoder(handle_unknown=\"error\", drop='if_binary'), binary_features),\n",
    "    (OrdinalEncoder(), ordinal_feature)\n",
    ")"
   ]
  },
  {
   "cell_type": "code",
   "execution_count": 111,
   "metadata": {},
   "outputs": [],
   "source": [
    "### make Random Forest Regressor pipeline\n",
    "pipe_rf = make_pipeline(preprocessor, RandomForestRegressor(random_state=123))"
   ]
  },
  {
   "cell_type": "code",
   "execution_count": 112,
   "metadata": {},
   "outputs": [],
   "source": [
    "### make scoring\n",
    "scoring = {\n",
    "    \"r2\": \"r2\", \n",
    "    \"neg_MSE\": \"neg_mean_squared_error\"\n",
    "}"
   ]
  },
  {
   "cell_type": "code",
   "execution_count": 151,
   "metadata": {},
   "outputs": [
    {
     "data": {
      "text/html": [
       "<div>\n",
       "<style scoped>\n",
       "    .dataframe tbody tr th:only-of-type {\n",
       "        vertical-align: middle;\n",
       "    }\n",
       "\n",
       "    .dataframe tbody tr th {\n",
       "        vertical-align: top;\n",
       "    }\n",
       "\n",
       "    .dataframe thead th {\n",
       "        text-align: right;\n",
       "    }\n",
       "</style>\n",
       "<table border=\"1\" class=\"dataframe\">\n",
       "  <thead>\n",
       "    <tr style=\"text-align: right;\">\n",
       "      <th></th>\n",
       "      <th>Random Forest Regressor</th>\n",
       "    </tr>\n",
       "  </thead>\n",
       "  <tbody>\n",
       "    <tr>\n",
       "      <th>fit_time</th>\n",
       "      <td>0.582000</td>\n",
       "    </tr>\n",
       "    <tr>\n",
       "      <th>score_time</th>\n",
       "      <td>0.016001</td>\n",
       "    </tr>\n",
       "    <tr>\n",
       "      <th>test_r2</th>\n",
       "      <td>-0.151878</td>\n",
       "    </tr>\n",
       "    <tr>\n",
       "      <th>train_r2</th>\n",
       "      <td>0.830825</td>\n",
       "    </tr>\n",
       "    <tr>\n",
       "      <th>test_neg_MSE</th>\n",
       "      <td>-241.953149</td>\n",
       "    </tr>\n",
       "    <tr>\n",
       "      <th>train_neg_MSE</th>\n",
       "      <td>-39.420397</td>\n",
       "    </tr>\n",
       "  </tbody>\n",
       "</table>\n",
       "</div>"
      ],
      "text/plain": [
       "               Random Forest Regressor\n",
       "fit_time                      0.582000\n",
       "score_time                    0.016001\n",
       "test_r2                      -0.151878\n",
       "train_r2                      0.830825\n",
       "test_neg_MSE               -241.953149\n",
       "train_neg_MSE               -39.420397"
      ]
     },
     "execution_count": 151,
     "metadata": {},
     "output_type": "execute_result"
    }
   ],
   "source": [
    "### mean train & cv scores from 5 folds\n",
    "scores_rf = cross_validate(pipe_rf, X_train, y_train, scoring=scoring, return_train_score=True)\n",
    "rf_cv_result_df = pd.DataFrame({\"Random Forest Regressor\":pd.DataFrame(scores_rf).mean().tolist()}, index = scores_rf.keys())\n",
    "rf_cv_result_df"
   ]
  },
  {
   "cell_type": "code",
   "execution_count": 115,
   "metadata": {},
   "outputs": [],
   "source": [
    "### create hyperparameter distributions\n",
    "rf_hyperparam_dist = {\n",
    "    \"randomforestregressor__n_estimators\": scipy.stats.randint(low=10, high=300),\n",
    "    \"randomforestregressor__max_depth\": scipy.stats.randint(low=2, high=20),\n",
    "}"
   ]
  },
  {
   "cell_type": "code",
   "execution_count": 117,
   "metadata": {},
   "outputs": [
    {
     "data": {
      "text/plain": [
       "RandomizedSearchCV(cv=5,\n",
       "                   estimator=Pipeline(steps=[('columntransformer',\n",
       "                                              ColumnTransformer(transformers=[('drop',\n",
       "                                                                               'drop',\n",
       "                                                                               ['ID']),\n",
       "                                                                              ('standardscaler',\n",
       "                                                                               StandardScaler(),\n",
       "                                                                               ['Transportation '\n",
       "                                                                                'expense',\n",
       "                                                                                'Distance '\n",
       "                                                                                'from '\n",
       "                                                                                'Residence '\n",
       "                                                                                'to '\n",
       "                                                                                'Work',\n",
       "                                                                                'Service '\n",
       "                                                                                'time',\n",
       "                                                                                'Age',\n",
       "                                                                                'Work '\n",
       "                                                                                'load '\n",
       "                                                                                'Average/day ',\n",
       "                                                                                'Hit '\n",
       "                                                                                'target',\n",
       "                                                                                'Son',\n",
       "                                                                                'Pet',\n",
       "                                                                                'Weight',\n",
       "                                                                                'Height',\n",
       "                                                                                'Body '\n",
       "                                                                                'mass '\n",
       "                                                                                'index']),\n",
       "                                                                              ('onehoten...\n",
       "                                             ('randomforestregressor',\n",
       "                                              RandomForestRegressor(random_state=123))]),\n",
       "                   n_iter=50, n_jobs=-1,\n",
       "                   param_distributions={'randomforestregressor__max_depth': <scipy.stats._distn_infrastructure.rv_frozen object at 0x0000026C087B5A90>,\n",
       "                                        'randomforestregressor__n_estimators': <scipy.stats._distn_infrastructure.rv_frozen object at 0x0000026C08C5CA90>},\n",
       "                   random_state=123, scoring='r2')"
      ]
     },
     "execution_count": 117,
     "metadata": {},
     "output_type": "execute_result"
    }
   ],
   "source": [
    "### perform hyperparameter tuning and fit the model\n",
    "random_search_rf = RandomizedSearchCV(pipe_rf, \n",
    "                                   rf_hyperparam_dist, \n",
    "                                   n_jobs=-1, \n",
    "                                   n_iter=50, \n",
    "                                   cv=5,\n",
    "                                   scoring='r2',\n",
    "                                   random_state=123)\n",
    "random_search_rf.fit(X_train, y_train)"
   ]
  },
  {
   "cell_type": "code",
   "execution_count": 118,
   "metadata": {},
   "outputs": [
    {
     "name": "stdout",
     "output_type": "stream",
     "text": [
      "The best r2 score from random search random forest is -0.053.\n",
      "The best hyperparameter value is {'randomforestregressor__max_depth': 2, 'randomforestregressor__n_estimators': 234}.\n"
     ]
    }
   ],
   "source": [
    "print(f\"The best r2 score from random search random forest is {random_search_rf.best_score_:.3f}.\")\n",
    "print(f\"The best hyperparameter value is {random_search_rf.best_params_}.\")"
   ]
  },
  {
   "cell_type": "code",
   "execution_count": 119,
   "metadata": {},
   "outputs": [
    {
     "data": {
      "text/plain": [
       "-0.09406859484354291"
      ]
     },
     "execution_count": 119,
     "metadata": {},
     "output_type": "execute_result"
    }
   ],
   "source": [
    "random_search_rf.best_estimator_.score(X_test, y_test)"
   ]
  },
  {
   "cell_type": "code",
   "execution_count": 120,
   "metadata": {},
   "outputs": [
    {
     "data": {
      "text/plain": [
       "Pipeline(steps=[('columntransformer',\n",
       "                 ColumnTransformer(transformers=[('drop', 'drop', ['ID']),\n",
       "                                                 ('standardscaler',\n",
       "                                                  StandardScaler(),\n",
       "                                                  ['Transportation expense',\n",
       "                                                   'Distance from Residence to '\n",
       "                                                   'Work',\n",
       "                                                   'Service time', 'Age',\n",
       "                                                   'Work load Average/day ',\n",
       "                                                   'Hit target', 'Son', 'Pet',\n",
       "                                                   'Weight', 'Height',\n",
       "                                                   'Body mass index']),\n",
       "                                                 ('onehotencoder-1',\n",
       "                                                  OneHotEncoder(handle_unknown='ignore'),\n",
       "                                                  ['Reason for absence',\n",
       "                                                   'Month of absence',\n",
       "                                                   'Day of the week',\n",
       "                                                   'Seasons']),\n",
       "                                                 ('onehotencoder-2',\n",
       "                                                  OneHotEncoder(drop='if_binary'),\n",
       "                                                  ['Disciplinary failure',\n",
       "                                                   'Social drinker',\n",
       "                                                   'Social smoker']),\n",
       "                                                 ('ordinalencoder',\n",
       "                                                  OrdinalEncoder(),\n",
       "                                                  ['Education'])])),\n",
       "                ('randomforestregressor',\n",
       "                 RandomForestRegressor(max_depth=2, n_estimators=234,\n",
       "                                       random_state=123))])"
      ]
     },
     "execution_count": 120,
     "metadata": {},
     "output_type": "execute_result"
    }
   ],
   "source": [
    "random_search_rf.best_estimator_"
   ]
  },
  {
   "cell_type": "code",
   "execution_count": 142,
   "metadata": {},
   "outputs": [],
   "source": [
    "feature_importances = random_search_rf.best_estimator_.named_steps['randomforestregressor'].feature_importances_.flatten()"
   ]
  },
  {
   "cell_type": "code",
   "execution_count": 132,
   "metadata": {},
   "outputs": [],
   "source": [
    "categorical_feature_names = random_search_rf.best_estimator_.named_steps['columntransformer'].named_transformers_['onehotencoder-1'].get_feature_names(categorical_features).tolist()"
   ]
  },
  {
   "cell_type": "code",
   "execution_count": 137,
   "metadata": {},
   "outputs": [],
   "source": [
    "binary_feature_names = random_search_rf.best_estimator_.named_steps['columntransformer'].named_transformers_['onehotencoder-2'].get_feature_names(binary_features).tolist()"
   ]
  },
  {
   "cell_type": "code",
   "execution_count": 138,
   "metadata": {},
   "outputs": [],
   "source": [
    "all_feature_names = numeric_features + categorical_feature_names + binary_feature_names + ordinal_feature"
   ]
  },
  {
   "cell_type": "code",
   "execution_count": 146,
   "metadata": {},
   "outputs": [],
   "source": [
    "feature_importances_df = pd.DataFrame({'features': all_feature_names, 'feature importances': feature_importances})"
   ]
  },
  {
   "cell_type": "code",
   "execution_count": 147,
   "metadata": {},
   "outputs": [
    {
     "data": {
      "text/html": [
       "<div>\n",
       "<style scoped>\n",
       "    .dataframe tbody tr th:only-of-type {\n",
       "        vertical-align: middle;\n",
       "    }\n",
       "\n",
       "    .dataframe tbody tr th {\n",
       "        vertical-align: top;\n",
       "    }\n",
       "\n",
       "    .dataframe thead th {\n",
       "        text-align: right;\n",
       "    }\n",
       "</style>\n",
       "<table border=\"1\" class=\"dataframe\">\n",
       "  <thead>\n",
       "    <tr style=\"text-align: right;\">\n",
       "      <th></th>\n",
       "      <th>features</th>\n",
       "      <th>feature importances</th>\n",
       "    </tr>\n",
       "  </thead>\n",
       "  <tbody>\n",
       "    <tr>\n",
       "      <th>0</th>\n",
       "      <td>Transportation expense</td>\n",
       "      <td>0.013957</td>\n",
       "    </tr>\n",
       "    <tr>\n",
       "      <th>1</th>\n",
       "      <td>Distance from Residence to Work</td>\n",
       "      <td>0.003951</td>\n",
       "    </tr>\n",
       "    <tr>\n",
       "      <th>2</th>\n",
       "      <td>Service time</td>\n",
       "      <td>0.002258</td>\n",
       "    </tr>\n",
       "    <tr>\n",
       "      <th>3</th>\n",
       "      <td>Age</td>\n",
       "      <td>0.230289</td>\n",
       "    </tr>\n",
       "    <tr>\n",
       "      <th>4</th>\n",
       "      <td>Work load Average/day</td>\n",
       "      <td>0.043336</td>\n",
       "    </tr>\n",
       "    <tr>\n",
       "      <th>...</th>\n",
       "      <td>...</td>\n",
       "      <td>...</td>\n",
       "    </tr>\n",
       "    <tr>\n",
       "      <th>59</th>\n",
       "      <td>Seasons_4</td>\n",
       "      <td>0.011644</td>\n",
       "    </tr>\n",
       "    <tr>\n",
       "      <th>60</th>\n",
       "      <td>Disciplinary failure_True</td>\n",
       "      <td>0.000000</td>\n",
       "    </tr>\n",
       "    <tr>\n",
       "      <th>61</th>\n",
       "      <td>Social drinker_True</td>\n",
       "      <td>0.000000</td>\n",
       "    </tr>\n",
       "    <tr>\n",
       "      <th>62</th>\n",
       "      <td>Social smoker_True</td>\n",
       "      <td>0.000000</td>\n",
       "    </tr>\n",
       "    <tr>\n",
       "      <th>63</th>\n",
       "      <td>Education</td>\n",
       "      <td>0.000000</td>\n",
       "    </tr>\n",
       "  </tbody>\n",
       "</table>\n",
       "<p>64 rows × 2 columns</p>\n",
       "</div>"
      ],
      "text/plain": [
       "                           features  feature importances\n",
       "0            Transportation expense             0.013957\n",
       "1   Distance from Residence to Work             0.003951\n",
       "2                      Service time             0.002258\n",
       "3                               Age             0.230289\n",
       "4            Work load Average/day              0.043336\n",
       "..                              ...                  ...\n",
       "59                        Seasons_4             0.011644\n",
       "60        Disciplinary failure_True             0.000000\n",
       "61              Social drinker_True             0.000000\n",
       "62               Social smoker_True             0.000000\n",
       "63                        Education             0.000000\n",
       "\n",
       "[64 rows x 2 columns]"
      ]
     },
     "execution_count": 147,
     "metadata": {},
     "output_type": "execute_result"
    }
   ],
   "source": [
    "feature_importances_df"
   ]
  }
 ],
 "metadata": {
  "kernelspec": {
   "display_name": "Python [conda env:573]",
   "language": "python",
   "name": "conda-env-573-py"
  },
  "language_info": {
   "codemirror_mode": {
    "name": "ipython",
    "version": 3
   },
   "file_extension": ".py",
   "mimetype": "text/x-python",
   "name": "python",
   "nbconvert_exporter": "python",
   "pygments_lexer": "ipython3",
   "version": "3.8.6"
  }
 },
 "nbformat": 4,
 "nbformat_minor": 4
}
